{
 "cells": [
  {
   "cell_type": "code",
   "execution_count": 11,
   "metadata": {},
   "outputs": [
    {
     "name": "stdout",
     "output_type": "stream",
     "text": [
      "Enter First Value: 2\n",
      "Enter Second Value: 3\n",
      "Enter Operator whisam you want to perform(+,-,*,/): /\n",
      "\n",
      "2 / 3 = 0.6666666666666666\n"
     ]
    }
   ],
   "source": [
    "#QUESTION: 1\n",
    "val_1=int(input(\"Enter First Value: \"))\n",
    "val_2=int(input(\"Enter Second Value: \"))\n",
    "\n",
    "print(\"Enter Operator whisam you want to perform(+,-,*,/): \", end=\"\")\n",
    "sam = input()\n",
    "if sam=='+':\n",
    "    print(\"\\n\" +str(val_1)+ \" + \" +str(val_2)+ \" = \" +str(val_1+val_2))\n",
    "elif sam=='-':\n",
    "    print(\"\\n\" +str(val_1)+ \" - \" +str(val_2)+ \" = \" +str(val_1-val_2))\n",
    "elif sam=='*':\n",
    "    print(\"\\n\" +str(val_1)+ \" * \" +str(val_2)+ \" = \" +str(val_1*val_2))\n",
    "elif sam=='/':\n",
    "    print(\"\\n\" +str(val_1)+ \" / \" +str(val_2)+ \" = \" +str(val_1/val_2))\n",
    "else:\n",
    "    print(\"\\nInvalid Operator!\")"
   ]
  },
  {
   "cell_type": "code",
   "execution_count": 38,
   "metadata": {},
   "outputs": [
    {
     "name": "stdout",
     "output_type": "stream",
     "text": [
      "Enter the Value to check the existance: 4\n",
      "Element Exists in the list\n"
     ]
    }
   ],
   "source": [
    "#QUESTION: 2\n",
    "\n",
    "hrlist = [ 1, 6, 3, 5, 3, 4 ]\n",
    "chk=input(\"Enter the Value to check the existance: \")\n",
    "\n",
    "\n",
    "# Checking if 4 exists in list\n",
    "# using loop\n",
    "for i in hrlist:\n",
    "    if(i == 4) :\n",
    "        print (\"Element Exists in the list\")"
   ]
  },
  {
   "cell_type": "code",
   "execution_count": 18,
   "metadata": {},
   "outputs": [
    {
     "name": "stdout",
     "output_type": "stream",
     "text": [
      "Original dictionary is:  {'key1': 'HAMMAD', 'key2': 'RAFI'}\n",
      "Updated dictionary is:  {'key1': 'HAMMAD', 'key2': 'RAFI', 'key3': 'HELLO'}\n"
     ]
    }
   ],
   "source": [
    "#QUESTION: 3\n",
    "\n",
    "dic = {'key1':'HAMMAD', 'key2':'RAFI'}\n",
    "print(\"Original dictionary is: \", dic)\n",
    "\n",
    "dic['key3'] = 'HELLO'\n",
    "print(\"Updated dictionary is: \", dic)"
   ]
  },
  {
   "cell_type": "code",
   "execution_count": 21,
   "metadata": {},
   "outputs": [
    {
     "name": "stdout",
     "output_type": "stream",
     "text": [
      "745\n"
     ]
    }
   ],
   "source": [
    "#QUESTION: 4\n",
    "\n",
    "my_dict = {'value1':10,'value2':-54,'value3':789}\n",
    "print(sum(my_dict.values()))"
   ]
  },
  {
   "cell_type": "code",
   "execution_count": 27,
   "metadata": {},
   "outputs": [
    {
     "name": "stdout",
     "output_type": "stream",
     "text": [
      "{9, 2, 5}\n"
     ]
    }
   ],
   "source": [
    "#QUESTION: 5\n",
    "myList = [9, 1, 5, 9, 4, 2, 7, 2, 9, 5, 3]\n",
    "occurrences = []\n",
    " \n",
    "for item in myList :\n",
    "    count = 0\n",
    "    for x in myList :\n",
    "        if x == item :\n",
    "            count += 1\n",
    "    occurrences.append(count)\n",
    "\n",
    "duplicates = set()\n",
    "index = 0\n",
    "while index < len(myList) :\n",
    "    if occurrences[index] != 1 :\n",
    "        duplicates.add(myList[index])\n",
    "    index += 1\n",
    "\n",
    "print(duplicates)"
   ]
  },
  {
   "cell_type": "code",
   "execution_count": 26,
   "metadata": {},
   "outputs": [
    {
     "name": "stdout",
     "output_type": "stream",
     "text": [
      "Enter Search Key: z\n",
      "Not present\n"
     ]
    }
   ],
   "source": [
    "#QUESTION: 6\n",
    "\n",
    "dict = {'a': 100, 'b':200, 'c':300}\n",
    "key =input('Enter Search Key: ')\n",
    "\n",
    "if key in dict:\n",
    "    print(\"Present, \", end =\" \")\n",
    "    print(\"value =\", dict[key])\n",
    "else:\n",
    "    print(\"Not present\")"
   ]
  }
 ],
 "metadata": {
  "kernelspec": {
   "display_name": "Python 3",
   "language": "python",
   "name": "python3"
  },
  "language_info": {
   "codemirror_mode": {
    "name": "ipython",
    "version": 3
   },
   "file_extension": ".py",
   "mimetype": "text/x-python",
   "name": "python",
   "nbconvert_exporter": "python",
   "pygments_lexer": "ipython3",
   "version": "3.7.3"
  }
 },
 "nbformat": 4,
 "nbformat_minor": 2
}
